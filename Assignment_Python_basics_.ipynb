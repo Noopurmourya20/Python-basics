{
  "nbformat": 4,
  "nbformat_minor": 0,
  "metadata": {
    "colab": {
      "provenance": []
    },
    "kernelspec": {
      "name": "python3",
      "display_name": "Python 3"
    },
    "language_info": {
      "name": "python"
    }
  },
  "cells": [
    {
      "cell_type": "code",
      "source": [
        "#PYTHON BASIC QUESTIONS"
      ],
      "metadata": {
        "id": "3kEVItmt91RX"
      },
      "execution_count": null,
      "outputs": []
    },
    {
      "cell_type": "markdown",
      "source": [
        "Q1. What is Python, and why is it popular?\n",
        "\n",
        "Ans. Python is programming language which helps a human to communicate to computer.It is popular easy to understand and write and huge active community.\n",
        "\n",
        "---\n",
        "\n",
        "Q2. What is an interpreter in Python.\n",
        "\n",
        "Ans. it is program that read and executes python code line by line instead of running the whole program at once.\n",
        "\n",
        "---\n",
        "\n",
        "Q3. What are pre-defined keywords in Python.\n",
        "\n",
        "Ans. Keywords are reserved words in Python that have special meanings and cannot be used as identifiers. Ex:- true, false, while, for, if, else, etc.\n",
        "\n",
        "---\n",
        "\n",
        "O4. Can keywords be used as variable names\n",
        "\n",
        "Ans.No, keywords cannot be used as variable name in python because they are reserved words that have special meanings in the language.\n",
        "\n",
        "---\n",
        "\n",
        "Q5. What is mutability in Python\n",
        "\n",
        "Ans.Mutability in python is refer to weather an element can be changed  after creation. ex:-list\n",
        "\n",
        "---\n",
        "\n",
        "Q6. Why are lists mutable, but tuples are immutable\n",
        "\n",
        "Ans. List are mutable, while tuples are immutable, because of the way they are designed in python. Lists are meant for dynamic data storage, where elements can be added,removed or changed. Whereas, Tuples are designed for fixed data storage where elements should not change.  \n",
        "\n",
        "---\n",
        "\n",
        "\n",
        "Q7. What is the difference between “==” and “is” operators in Python\n",
        "\n",
        "Ans. The key difference is as follows:-\n",
        "Use of \"==\" when you to compare values. Ex:(x=y)\n",
        "Use of \"is\" whe you want to check if two variables refer to the same memory location.Ex:(x is y)\n",
        "\n",
        "---\n",
        "\n",
        "\n",
        "Q8. What are logical operators in Python?\n",
        "\n",
        "Ans. Logical operaters are to combine multiple condition & return True or False based on the logic. Ex: a=2 & b=4 >> (a<b) >> ture   \n",
        "\n",
        "---\n",
        "\n",
        "Q9. What is type casting in Python?\n",
        "\n",
        "Ans. Type casting, also referred to as type conversion, is the process of changing one data type to another in Python.\n",
        "\n",
        "---\n",
        "\n",
        "Q10.What is the difference between implicit and explicit type casting?\n",
        "\n",
        "Ans. implicit: python automactically converts one data type to another when no data loss occurs.\n",
        "explicit: you manually convert one data type to another using functions like integer, float, strig, etc.   \n",
        "\n",
        "---\n",
        "\n",
        "Q11. What is the purpose of conditional statements in Python?\n",
        "\n",
        "Ans:Conditionals in Python are used to execute code based on the evaluation of one or more conditions.\n",
        "\n",
        "---\n",
        "\n",
        "Q12. How does the elif statement work?\n",
        "\n",
        "Ans. the elif statement in python is used when you need to check multiple conditions. it stands for \"else if\" statement but before an else.\n",
        "\n",
        "---\n",
        "\n",
        "Q13. What is the difference between for and while loops?\n",
        "\n",
        "Ans. “for” loops are used for iterating over a sequence of elements, while “while” loops are used for executing code until a specified condition becomes False\n",
        "\n",
        "---\n",
        "Q14. Describe a scenario where a while loop is more suitable than a for loop?\n",
        "\n",
        "Ans. A while loop is more suitable than a for loop when you don't know in advance how many times the loop should run and need to continue until a condition is met. Imagine an ATM where a user keeps withdrawing money until their balance is too low. Since we don't know how many withdrawals they'll make, a while loop is better than a for loop."
      ],
      "metadata": {
        "id": "9RERayU4-xqH"
      }
    },
    {
      "cell_type": "code",
      "source": [
        "#PRACTICAL QUESTION"
      ],
      "metadata": {
        "id": "b4rdI3cLcKq-"
      },
      "execution_count": null,
      "outputs": []
    },
    {
      "cell_type": "code",
      "execution_count": null,
      "metadata": {
        "id": "O-W9bRW1VG5b",
        "colab": {
          "base_uri": "https://localhost:8080/"
        },
        "outputId": "c95bdf08-777b-4eca-8b1b-6fc0d1522f46"
      },
      "outputs": [
        {
          "output_type": "stream",
          "name": "stdout",
          "text": [
            "hello world\n"
          ]
        }
      ],
      "source": [
        "#1 Write a Python program to print \"Hello, World!_\n",
        "print(\"hello world\")"
      ]
    },
    {
      "cell_type": "code",
      "source": [
        "#2 Write a Python program that displays your name and age\n",
        "Name = input(\"Enter your name:\")\n",
        "Age = input(\"Enter your age:\")"
      ],
      "metadata": {
        "colab": {
          "base_uri": "https://localhost:8080/"
        },
        "id": "y2A5lEtz1fxu",
        "outputId": "ef5da1a6-2bdf-4681-9fb6-727faada04ec"
      },
      "execution_count": null,
      "outputs": [
        {
          "name": "stdout",
          "output_type": "stream",
          "text": [
            "Enter your name:Noopur Mourya\n",
            "Enter your age:19\n"
          ]
        }
      ]
    },
    {
      "cell_type": "code",
      "source": [
        "#3 Write code to print all the pre-defined keywords in Python using the keyword library\n",
        "help(\"keywords\")"
      ],
      "metadata": {
        "colab": {
          "base_uri": "https://localhost:8080/"
        },
        "id": "CO4ZZLBY7IGg",
        "outputId": "0ce3cc82-2fad-4966-d7b6-8bf461f66c6b"
      },
      "execution_count": null,
      "outputs": [
        {
          "output_type": "stream",
          "name": "stdout",
          "text": [
            "\n",
            "Here is a list of the Python keywords.  Enter any keyword to get more help.\n",
            "\n",
            "False               class               from                or\n",
            "None                continue            global              pass\n",
            "True                def                 if                  raise\n",
            "and                 del                 import              return\n",
            "as                  elif                in                  try\n",
            "assert              else                is                  while\n",
            "async               except              lambda              with\n",
            "await               finally             nonlocal            yield\n",
            "break               for                 not                 \n",
            "\n"
          ]
        }
      ]
    },
    {
      "cell_type": "code",
      "source": [
        "#4 Write a program that checks if a given word is a Python keyword."
      ],
      "metadata": {
        "id": "Ff7qAL6a70x7"
      },
      "execution_count": null,
      "outputs": []
    },
    {
      "cell_type": "code",
      "source": [
        "word = input(\"enter a word: \")\n",
        "if word in help(\"words\"):\n",
        "  print(f\"{word} is a keyword\")\n",
        "else:\n",
        "  print(f\"{word} is not a keyword\")"
      ],
      "metadata": {
        "colab": {
          "base_uri": "https://localhost:8080/",
          "height": 306
        },
        "id": "lxPahK5Vup7a",
        "outputId": "a6ff7222-7a52-4e3d-cc8d-f2c9ae5a3edf"
      },
      "execution_count": null,
      "outputs": [
        {
          "output_type": "stream",
          "name": "stdout",
          "text": [
            "enter a word: True\n",
            "No Python documentation found for 'words'.\n",
            "Use help() to get the interactive help utility.\n",
            "Use help(str) for help on the str class.\n",
            "\n"
          ]
        },
        {
          "output_type": "error",
          "ename": "TypeError",
          "evalue": "argument of type 'NoneType' is not iterable",
          "traceback": [
            "\u001b[0;31m---------------------------------------------------------------------------\u001b[0m",
            "\u001b[0;31mTypeError\u001b[0m                                 Traceback (most recent call last)",
            "\u001b[0;32m<ipython-input-46-1fcbb2af9c16>\u001b[0m in \u001b[0;36m<cell line: 0>\u001b[0;34m()\u001b[0m\n\u001b[1;32m      1\u001b[0m \u001b[0mword\u001b[0m \u001b[0;34m=\u001b[0m \u001b[0minput\u001b[0m\u001b[0;34m(\u001b[0m\u001b[0;34m\"enter a word: \"\u001b[0m\u001b[0;34m)\u001b[0m\u001b[0;34m\u001b[0m\u001b[0;34m\u001b[0m\u001b[0m\n\u001b[0;32m----> 2\u001b[0;31m \u001b[0;32mif\u001b[0m \u001b[0mword\u001b[0m \u001b[0;32min\u001b[0m \u001b[0mhelp\u001b[0m\u001b[0;34m(\u001b[0m\u001b[0;34m\"words\"\u001b[0m\u001b[0;34m)\u001b[0m\u001b[0;34m:\u001b[0m\u001b[0;34m\u001b[0m\u001b[0;34m\u001b[0m\u001b[0m\n\u001b[0m\u001b[1;32m      3\u001b[0m   \u001b[0mprint\u001b[0m\u001b[0;34m(\u001b[0m\u001b[0;34mf\"{word} is a keyword\"\u001b[0m\u001b[0;34m)\u001b[0m\u001b[0;34m\u001b[0m\u001b[0;34m\u001b[0m\u001b[0m\n\u001b[1;32m      4\u001b[0m \u001b[0;32melse\u001b[0m\u001b[0;34m:\u001b[0m\u001b[0;34m\u001b[0m\u001b[0;34m\u001b[0m\u001b[0m\n\u001b[1;32m      5\u001b[0m   \u001b[0mprint\u001b[0m\u001b[0;34m(\u001b[0m\u001b[0;34mf\"{word} is not a keyword\"\u001b[0m\u001b[0;34m)\u001b[0m\u001b[0;34m\u001b[0m\u001b[0;34m\u001b[0m\u001b[0m\n",
            "\u001b[0;31mTypeError\u001b[0m: argument of type 'NoneType' is not iterable"
          ]
        }
      ]
    },
    {
      "cell_type": "code",
      "source": [
        "#5 Create a list and tuple in Python, and demonstrate how attempting to change an element works differently for each"
      ],
      "metadata": {
        "id": "VBDFrME-fZZk"
      },
      "execution_count": null,
      "outputs": []
    },
    {
      "cell_type": "code",
      "source": [
        "#LIST >>> are mutable >>> changes can be made\n",
        "names_list = [\"saket\", \"shagun\" ,\"nidhi\" ,\"noopur\" , \"ajay\"]\n",
        "type(names_list)"
      ],
      "metadata": {
        "colab": {
          "base_uri": "https://localhost:8080/"
        },
        "id": "LDaaYJ20fxrz",
        "outputId": "e83a87d0-7555-4f53-8b46-65a586ac8484"
      },
      "execution_count": null,
      "outputs": [
        {
          "output_type": "execute_result",
          "data": {
            "text/plain": [
              "list"
            ]
          },
          "metadata": {},
          "execution_count": 10
        }
      ]
    },
    {
      "cell_type": "code",
      "source": [
        "names_list[0] = \"raj\""
      ],
      "metadata": {
        "id": "UG5H-oF-h4Lm"
      },
      "execution_count": null,
      "outputs": []
    },
    {
      "cell_type": "code",
      "source": [
        "names_list #so we can see the change of name saket into raj >> change can be made in a list"
      ],
      "metadata": {
        "colab": {
          "base_uri": "https://localhost:8080/"
        },
        "id": "d2iErUSPiEAV",
        "outputId": "568c630c-6840-4b22-ba98-8597cae8bd3d"
      },
      "execution_count": null,
      "outputs": [
        {
          "output_type": "execute_result",
          "data": {
            "text/plain": [
              "['raj', 'shagun', 'nidhi', 'noopur', 'ajay']"
            ]
          },
          "metadata": {},
          "execution_count": 12
        }
      ]
    },
    {
      "cell_type": "code",
      "source": [
        "#TUPLESS >>> are immutable >>> changes can't be made\n",
        "names_tup = (\"saket\", \"shagun\" ,\"nidhi\" ,\"noopur\" , \"ajay\")\n",
        "type(names_tup)"
      ],
      "metadata": {
        "colab": {
          "base_uri": "https://localhost:8080/"
        },
        "id": "Wv-BmGUXjxfO",
        "outputId": "cd578e5c-02e9-410c-f5e2-3b3c22018f46"
      },
      "execution_count": null,
      "outputs": [
        {
          "output_type": "execute_result",
          "data": {
            "text/plain": [
              "tuple"
            ]
          },
          "metadata": {},
          "execution_count": 13
        }
      ]
    },
    {
      "cell_type": "code",
      "source": [
        "names_tup[0] = \"raj\" #we can see the error because tuples are immutable in nature >>> changes can't be made"
      ],
      "metadata": {
        "colab": {
          "base_uri": "https://localhost:8080/",
          "height": 141
        },
        "id": "2QvPEx81lUdD",
        "outputId": "2b7f05bb-364c-47d2-be62-451ad2158b9a"
      },
      "execution_count": null,
      "outputs": [
        {
          "output_type": "error",
          "ename": "TypeError",
          "evalue": "'tuple' object does not support item assignment",
          "traceback": [
            "\u001b[0;31m---------------------------------------------------------------------------\u001b[0m",
            "\u001b[0;31mTypeError\u001b[0m                                 Traceback (most recent call last)",
            "\u001b[0;32m<ipython-input-14-f6f9ef7d17a4>\u001b[0m in \u001b[0;36m<cell line: 0>\u001b[0;34m()\u001b[0m\n\u001b[0;32m----> 1\u001b[0;31m \u001b[0mnames_tup\u001b[0m\u001b[0;34m[\u001b[0m\u001b[0;36m0\u001b[0m\u001b[0;34m]\u001b[0m \u001b[0;34m=\u001b[0m \u001b[0;34m\"raj\"\u001b[0m\u001b[0;34m\u001b[0m\u001b[0;34m\u001b[0m\u001b[0m\n\u001b[0m",
            "\u001b[0;31mTypeError\u001b[0m: 'tuple' object does not support item assignment"
          ]
        }
      ]
    },
    {
      "cell_type": "code",
      "source": [
        "#6 Write a function to demonstrate the behavior of mutable and immutable arguments\n",
        "#7 Write a function to demonstrate the behavior of mutable and immutable arguments [QUESTION 6 & 7 ARE SAME]"
      ],
      "metadata": {
        "id": "bvkHExQUleOH"
      },
      "execution_count": null,
      "outputs": []
    },
    {
      "cell_type": "code",
      "source": [
        "#MUTABLE\n",
        "list_1 = [\"cat\", \"dog\", \"rat\" ]\n",
        "type(list_1) #list are mutable in nature"
      ],
      "metadata": {
        "colab": {
          "base_uri": "https://localhost:8080/"
        },
        "id": "cL9DTsTNODpS",
        "outputId": "fdbf2f79-56ab-48ce-ce6e-c3401805c061"
      },
      "execution_count": null,
      "outputs": [
        {
          "output_type": "execute_result",
          "data": {
            "text/plain": [
              "list"
            ]
          },
          "metadata": {},
          "execution_count": 4
        }
      ]
    },
    {
      "cell_type": "code",
      "source": [
        "list_1[0] = \"tiger\" #change can be seen\n",
        "list_1"
      ],
      "metadata": {
        "colab": {
          "base_uri": "https://localhost:8080/"
        },
        "id": "jMpQhTg_OxL8",
        "outputId": "fb287930-993d-482b-f71b-311f752c6206"
      },
      "execution_count": null,
      "outputs": [
        {
          "output_type": "execute_result",
          "data": {
            "text/plain": [
              "['tiger', 'dog', 'rat']"
            ]
          },
          "metadata": {},
          "execution_count": 6
        }
      ]
    },
    {
      "cell_type": "code",
      "source": [
        "#IMMUTABLE\n",
        "string1 = \"pwskills\"\n",
        "type(string1) #str are immutable in nature"
      ],
      "metadata": {
        "colab": {
          "base_uri": "https://localhost:8080/"
        },
        "id": "wsFHue64LpD0",
        "outputId": "ea531564-eaba-45f2-f107-5b9139c994ed"
      },
      "execution_count": null,
      "outputs": [
        {
          "output_type": "execute_result",
          "data": {
            "text/plain": [
              "str"
            ]
          },
          "metadata": {},
          "execution_count": 2
        }
      ]
    },
    {
      "cell_type": "code",
      "source": [
        "string1[0] = i #it is throwing error & change can't be seen"
      ],
      "metadata": {
        "colab": {
          "base_uri": "https://localhost:8080/",
          "height": 141
        },
        "id": "8NK1c74xL473",
        "outputId": "7c60bffe-3cb8-499d-8da2-6637fcf260d8"
      },
      "execution_count": null,
      "outputs": [
        {
          "output_type": "error",
          "ename": "NameError",
          "evalue": "name 'i' is not defined",
          "traceback": [
            "\u001b[0;31m---------------------------------------------------------------------------\u001b[0m",
            "\u001b[0;31mNameError\u001b[0m                                 Traceback (most recent call last)",
            "\u001b[0;32m<ipython-input-3-590e8dd1366b>\u001b[0m in \u001b[0;36m<cell line: 0>\u001b[0;34m()\u001b[0m\n\u001b[0;32m----> 1\u001b[0;31m \u001b[0mstring1\u001b[0m\u001b[0;34m[\u001b[0m\u001b[0;36m0\u001b[0m\u001b[0;34m]\u001b[0m \u001b[0;34m=\u001b[0m \u001b[0mi\u001b[0m\u001b[0;34m\u001b[0m\u001b[0;34m\u001b[0m\u001b[0m\n\u001b[0m",
            "\u001b[0;31mNameError\u001b[0m: name 'i' is not defined"
          ]
        }
      ]
    },
    {
      "cell_type": "code",
      "source": [
        "#8 Write a program to demonstrate the use of logical operators"
      ],
      "metadata": {
        "id": "awjgVPBSMC3C"
      },
      "execution_count": null,
      "outputs": []
    },
    {
      "cell_type": "code",
      "source": [
        "#9 Write a Python program to convert user input from string to integer, float, and boolean types"
      ],
      "metadata": {
        "id": "XPpCpsJrVDa7"
      },
      "execution_count": null,
      "outputs": []
    },
    {
      "cell_type": "code",
      "source": [
        "id_num = (int(input(\"please enter your number: \")))\n",
        "ai_verification = (bool(input(\"are you HUMAN? answer in true or false: \")))\n",
        "password = (float(input(\"please enter your password: \")))"
      ],
      "metadata": {
        "id": "3xrXutSI6d5x",
        "colab": {
          "base_uri": "https://localhost:8080/"
        },
        "outputId": "6d823114-45c2-4f9e-9245-ae4a4ffb8c8f"
      },
      "execution_count": null,
      "outputs": [
        {
          "name": "stdout",
          "output_type": "stream",
          "text": [
            "please enter your number: 1134345\n",
            "are you HUMAN? answer in true or false: ture\n",
            "please enter your password: 1.12334\n"
          ]
        }
      ]
    },
    {
      "cell_type": "code",
      "source": [
        "#10 Write code to demonstrate type casting with list elements.\n",
        "list_c = [\"table\", \"chair\", \"mat\", \"tv\", \"frige\", \"sofa\"]"
      ],
      "metadata": {
        "id": "QhLEEXDcUYT0"
      },
      "execution_count": null,
      "outputs": []
    },
    {
      "cell_type": "code",
      "source": [
        "list_c"
      ],
      "metadata": {
        "colab": {
          "base_uri": "https://localhost:8080/"
        },
        "id": "W3woWTGSZDye",
        "outputId": "fe48f3ca-aec0-4a23-d3fc-c99285e5da2a"
      },
      "execution_count": null,
      "outputs": [
        {
          "output_type": "execute_result",
          "data": {
            "text/plain": [
              "['table', 'chair', 'mat', 'tv', 'frige', 'sofa']"
            ]
          },
          "metadata": {},
          "execution_count": 3
        }
      ]
    },
    {
      "cell_type": "code",
      "source": [
        "list_c[0] = \"1234\"\n",
        "list_c[1] = \"2+2\"\n",
        "list_c[3] = \"5.8\"\n",
        "list_c[-2] = \"True\""
      ],
      "metadata": {
        "id": "gTOrJGRlZJcj"
      },
      "execution_count": null,
      "outputs": []
    },
    {
      "cell_type": "code",
      "source": [
        "list_c #type casting is done with elements of list"
      ],
      "metadata": {
        "colab": {
          "base_uri": "https://localhost:8080/"
        },
        "id": "8s5nI20aZ-PQ",
        "outputId": "81245262-f452-4abf-b2f5-3baed70276a9"
      },
      "execution_count": null,
      "outputs": [
        {
          "output_type": "execute_result",
          "data": {
            "text/plain": [
              "['1234', '2+2', 'mat', '5.8', 'True', 'sofa']"
            ]
          },
          "metadata": {},
          "execution_count": 6
        }
      ]
    },
    {
      "cell_type": "markdown",
      "source": [],
      "metadata": {
        "id": "A_xqaf3RahTN"
      }
    },
    {
      "cell_type": "code",
      "source": [
        "#11 Write a program that checks if a number is positive, negative, or zero"
      ],
      "metadata": {
        "id": "CvuVIXBJaKGj"
      },
      "execution_count": null,
      "outputs": []
    },
    {
      "cell_type": "code",
      "source": [
        "number = 11\n",
        "if number > 0:\n",
        "    print(\"number is positive\")\n",
        "elif number < 0:\n",
        "    print(\"number is negative\")\n",
        "else:\n",
        "    print(\"the number is zero\")"
      ],
      "metadata": {
        "colab": {
          "base_uri": "https://localhost:8080/"
        },
        "id": "FXinV1bGbcGZ",
        "outputId": "7125744b-7351-4aa4-95c9-f98bfb0b0dbf"
      },
      "execution_count": null,
      "outputs": [
        {
          "output_type": "stream",
          "name": "stdout",
          "text": [
            "number is positive\n"
          ]
        }
      ]
    },
    {
      "cell_type": "code",
      "source": [
        "#12 Write a for loop to print numbers from 1 to 100"
      ],
      "metadata": {
        "id": "5oFaFEFRdnPi"
      },
      "execution_count": null,
      "outputs": []
    },
    {
      "cell_type": "code",
      "source": [
        "for i in range(1, 10):\n",
        "  print(i)"
      ],
      "metadata": {
        "colab": {
          "base_uri": "https://localhost:8080/"
        },
        "id": "-g_ZXdSle8hC",
        "outputId": "82d01511-9bc7-42fc-d82c-619c91dc8a4d"
      },
      "execution_count": null,
      "outputs": [
        {
          "output_type": "stream",
          "name": "stdout",
          "text": [
            "1\n",
            "2\n",
            "3\n",
            "4\n",
            "5\n",
            "6\n",
            "7\n",
            "8\n",
            "9\n"
          ]
        }
      ]
    },
    {
      "cell_type": "code",
      "source": [
        "#13 Write a Python program to find the sum of all even numbers between 1 and 50\n"
      ],
      "metadata": {
        "id": "KesMGJcwfFEG"
      },
      "execution_count": null,
      "outputs": []
    },
    {
      "cell_type": "code",
      "source": [
        "i = 1\n",
        "sum = 0\n",
        "while(i<50):\n",
        "  if(i%2==0):\n",
        "    sum = sum+i\n",
        "  i=i+1\n",
        "print(\"sum of even number from 1 to 50 =\", sum)"
      ],
      "metadata": {
        "colab": {
          "base_uri": "https://localhost:8080/"
        },
        "id": "nF1ZePBRk01B",
        "outputId": "4f5c52c0-c5db-4460-9c76-a62453d2924d"
      },
      "execution_count": null,
      "outputs": [
        {
          "output_type": "stream",
          "name": "stdout",
          "text": [
            "sum of even number from 1 to 50 = 600\n"
          ]
        }
      ]
    },
    {
      "cell_type": "code",
      "source": [
        "#14 Write a program to reverse a string using a while loop"
      ],
      "metadata": {
        "id": "_puhpfTn0RbU"
      },
      "execution_count": null,
      "outputs": []
    },
    {
      "cell_type": "code",
      "source": [
        "string = \"python\"\n",
        "\n",
        "rev_str = \"\"\n",
        "length = len(string)-1\n",
        "while length >= 0:\n",
        "  rev_str = rev_str + string[length]\n",
        "  length = length - 1\n",
        "print(rev_str)"
      ],
      "metadata": {
        "colab": {
          "base_uri": "https://localhost:8080/"
        },
        "id": "0pTyQKxk4CtT",
        "outputId": "a0675ddd-b409-43d3-8b70-1ea25d9f74fb"
      },
      "execution_count": null,
      "outputs": [
        {
          "output_type": "stream",
          "name": "stdout",
          "text": [
            "nohtyp\n"
          ]
        }
      ]
    },
    {
      "cell_type": "code",
      "source": [
        "#15 Write a Python program to calculate the factorial of a number provided by the user using a while loop.\n",
        "# this type was not take in tne module"
      ],
      "metadata": {
        "id": "ZiFQaQJX43bs"
      },
      "execution_count": null,
      "outputs": []
    },
    {
      "cell_type": "code",
      "source": [
        "num =int(input(\"enter a number:  \"))\n",
        "factorial = 1\n",
        "i = num\n",
        "\n",
        "while i > 1:\n",
        "  factorial *= i\n",
        "  i-= 1\n",
        "print(f\"factocial of {num} is {factorial}\")"
      ],
      "metadata": {
        "colab": {
          "base_uri": "https://localhost:8080/"
        },
        "id": "CHFwHH3x6t8v",
        "outputId": "afea7e39-a14f-4164-b9ec-77e83e26e014"
      },
      "execution_count": null,
      "outputs": [
        {
          "output_type": "stream",
          "name": "stdout",
          "text": [
            "enter a number:  5\n",
            "factocial of 5 is 120\n"
          ]
        }
      ]
    },
    {
      "cell_type": "code",
      "source": [],
      "metadata": {
        "id": "FWl3JGeM9QF6"
      },
      "execution_count": null,
      "outputs": []
    }
  ]
}